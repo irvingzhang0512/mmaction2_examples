{
 "metadata": {
  "language_info": {
   "codemirror_mode": {
    "name": "ipython",
    "version": 3
   },
   "file_extension": ".py",
   "mimetype": "text/x-python",
   "name": "python",
   "nbconvert_exporter": "python",
   "pygments_lexer": "ipython3",
   "version": "3.7.9"
  },
  "orig_nbformat": 2,
  "kernelspec": {
   "name": "python379jvsc74a57bd0efd9ea0e8a632a50f90a8a1ff6e87f45396d14dc18a5ba30cb052fbd3c8b9307",
   "display_name": "Python 3.7.9 64-bit ('zyy_tensorrt7': conda)"
  },
  "metadata": {
   "interpreter": {
    "hash": "efd9ea0e8a632a50f90a8a1ff6e87f45396d14dc18a5ba30cb052fbd3c8b9307"
   }
  }
 },
 "nbformat": 4,
 "nbformat_minor": 2,
 "cells": [
  {
   "cell_type": "code",
   "execution_count": 1,
   "metadata": {},
   "outputs": [],
   "source": [
    "# 主要用来调试 onnx 相关"
   ]
  },
  {
   "cell_type": "code",
   "execution_count": 7,
   "metadata": {},
   "outputs": [],
   "source": [
    "import onnx\n",
    "import onnxruntime as rt\n",
    "import numpy as np\n",
    "\n",
    "\n",
    "def get_numpy_random_inputs(input_shape, dtype=np.float32):\n",
    "    return np.random.rand(*input_shape).astype(dtype)\n",
    "\n",
    "\n",
    "def inference_onnx(onnx_file_path, inputs):\n",
    "    \"\"\"Get predictions by ONNX.\n",
    "    For now, multi-gpu mode and dynamic tensor shape are not supported.\n",
    "\n",
    "    onnx_file_name: Onnx model file path\n",
    "    inputs: A numpy.ndarray object, the input tensor of onnx model\n",
    "    \"\"\"\n",
    "\n",
    "    # get input tensor name\n",
    "    onnx_model = onnx.load(onnx_file_path)\n",
    "    input_all = [node.name for node in onnx_model.graph.input]\n",
    "    input_initializer = [node.name for node in onnx_model.graph.initializer]\n",
    "    net_feed_input = list(set(input_all) - set(input_initializer))\n",
    "    assert len(net_feed_input) == 1\n",
    "\n",
    "    # get predictions\n",
    "    sess = rt.InferenceSession(onnx_file_path)\n",
    "    return sess.run(None, {net_feed_input[0]: inputs})[0]"
   ]
  },
  {
   "cell_type": "code",
   "execution_count": 10,
   "metadata": {},
   "outputs": [],
   "source": [
    "# onnx_file_path = \"/ssd01/zhangyiyang/mmaction2_github/examples/benchmark/data/onnx/TSN_r50_8f.onnx\"\n"
   ]
  },
  {
   "cell_type": "code",
   "execution_count": 12,
   "metadata": {},
   "outputs": [
    {
     "output_type": "execute_result",
     "data": {
      "text/plain": [
       "(1, 400)"
      ]
     },
     "metadata": {},
     "execution_count": 12
    }
   ],
   "source": [
    "res.shape"
   ]
  },
  {
   "cell_type": "code",
   "execution_count": null,
   "metadata": {},
   "outputs": [],
   "source": []
  }
 ]
}