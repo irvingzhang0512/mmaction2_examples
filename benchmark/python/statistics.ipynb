{
 "metadata": {
  "language_info": {
   "codemirror_mode": {
    "name": "ipython",
    "version": 3
   },
   "file_extension": ".py",
   "mimetype": "text/x-python",
   "name": "python",
   "nbconvert_exporter": "python",
   "pygments_lexer": "ipython3",
   "version": "3.7.9"
  },
  "orig_nbformat": 2,
  "kernelspec": {
   "name": "python379jvsc74a57bd0efd9ea0e8a632a50f90a8a1ff6e87f45396d14dc18a5ba30cb052fbd3c8b9307",
   "display_name": "Python 3.7.9 64-bit ('zyy_tensorrt7': conda)"
  },
  "metadata": {
   "interpreter": {
    "hash": "efd9ea0e8a632a50f90a8a1ff6e87f45396d14dc18a5ba30cb052fbd3c8b9307"
   }
  }
 },
 "nbformat": 4,
 "nbformat_minor": 2,
 "cells": [
  {
   "cell_type": "code",
   "execution_count": 1,
   "metadata": {},
   "outputs": [],
   "source": [
    "import pandas as pd\n",
    "import numpy as np"
   ]
  },
  {
   "cell_type": "code",
   "execution_count": 2,
   "metadata": {},
   "outputs": [
    {
     "output_type": "execute_result",
     "data": {
      "text/plain": [
       "  model_type       model_name  num_segments  batch_size  \\\n",
       "0    PyTorch          TSN_r50            32           1   \n",
       "1    PyTorch  TSM_MobileNetV2            32           1   \n",
       "2    PyTorch          TSM_r50            32           1   \n",
       "3    PyTorch          TIN_r50            32           1   \n",
       "4    PyTorch            TANet            32           1   \n",
       "\n",
       "                                    comments  time_per_batch  time_per_sample  \\\n",
       "0  fp16 False cudnn False fuse_conv_bn False              52               52   \n",
       "1  fp16 False cudnn False fuse_conv_bn False              23               23   \n",
       "2  fp16 False cudnn False fuse_conv_bn False              59               59   \n",
       "3  fp16 False cudnn False fuse_conv_bn False             141              141   \n",
       "4  fp16 False cudnn False fuse_conv_bn False              64               64   \n",
       "\n",
       "   device  \n",
       "0  1080ti  \n",
       "1  1080ti  \n",
       "2  1080ti  \n",
       "3  1080ti  \n",
       "4  1080ti  "
      ],
      "text/html": "<div>\n<style scoped>\n    .dataframe tbody tr th:only-of-type {\n        vertical-align: middle;\n    }\n\n    .dataframe tbody tr th {\n        vertical-align: top;\n    }\n\n    .dataframe thead th {\n        text-align: right;\n    }\n</style>\n<table border=\"1\" class=\"dataframe\">\n  <thead>\n    <tr style=\"text-align: right;\">\n      <th></th>\n      <th>model_type</th>\n      <th>model_name</th>\n      <th>num_segments</th>\n      <th>batch_size</th>\n      <th>comments</th>\n      <th>time_per_batch</th>\n      <th>time_per_sample</th>\n      <th>device</th>\n    </tr>\n  </thead>\n  <tbody>\n    <tr>\n      <th>0</th>\n      <td>PyTorch</td>\n      <td>TSN_r50</td>\n      <td>32</td>\n      <td>1</td>\n      <td>fp16 False cudnn False fuse_conv_bn False</td>\n      <td>52</td>\n      <td>52</td>\n      <td>1080ti</td>\n    </tr>\n    <tr>\n      <th>1</th>\n      <td>PyTorch</td>\n      <td>TSM_MobileNetV2</td>\n      <td>32</td>\n      <td>1</td>\n      <td>fp16 False cudnn False fuse_conv_bn False</td>\n      <td>23</td>\n      <td>23</td>\n      <td>1080ti</td>\n    </tr>\n    <tr>\n      <th>2</th>\n      <td>PyTorch</td>\n      <td>TSM_r50</td>\n      <td>32</td>\n      <td>1</td>\n      <td>fp16 False cudnn False fuse_conv_bn False</td>\n      <td>59</td>\n      <td>59</td>\n      <td>1080ti</td>\n    </tr>\n    <tr>\n      <th>3</th>\n      <td>PyTorch</td>\n      <td>TIN_r50</td>\n      <td>32</td>\n      <td>1</td>\n      <td>fp16 False cudnn False fuse_conv_bn False</td>\n      <td>141</td>\n      <td>141</td>\n      <td>1080ti</td>\n    </tr>\n    <tr>\n      <th>4</th>\n      <td>PyTorch</td>\n      <td>TANet</td>\n      <td>32</td>\n      <td>1</td>\n      <td>fp16 False cudnn False fuse_conv_bn False</td>\n      <td>64</td>\n      <td>64</td>\n      <td>1080ti</td>\n    </tr>\n  </tbody>\n</table>\n</div>"
     },
     "metadata": {},
     "execution_count": 2
    }
   ],
   "source": [
    "df = pd.read_csv(\"result.txt\", header=None)\n",
    "df.columns = ['model_type', 'model_name', 'num_segments', 'batch_size', 'comments', 'time_per_batch', 'time_per_sample', 'device']\n",
    "df.head()"
   ]
  },
  {
   "cell_type": "code",
   "execution_count": 3,
   "metadata": {},
   "outputs": [
    {
     "output_type": "execute_result",
     "data": {
      "text/plain": [
       "             v100(32f, 16f, 8f) 1080ti(32f, 16f, 8f) agx(32f, 16f, 8f)\n",
       "model_name                                                            \n",
       "2Plus1d_r34            61/41/32             77/41/27       539/278/146\n",
       "CSN_r152            172/169/169            115/92/88       584/303/163\n",
       "I3D_r50                27/23/21             21/14/11         128/68/37\n",
       "SlowFast_r50           34/28/28             28/18/14         150/81/45\n",
       "SlowOnly_r50           58/38/28             79/41/23       576/301/160"
      ],
      "text/html": "<div>\n<style scoped>\n    .dataframe tbody tr th:only-of-type {\n        vertical-align: middle;\n    }\n\n    .dataframe tbody tr th {\n        vertical-align: top;\n    }\n\n    .dataframe thead th {\n        text-align: right;\n    }\n</style>\n<table border=\"1\" class=\"dataframe\">\n  <thead>\n    <tr style=\"text-align: right;\">\n      <th></th>\n      <th>v100(32f, 16f, 8f)</th>\n      <th>1080ti(32f, 16f, 8f)</th>\n      <th>agx(32f, 16f, 8f)</th>\n    </tr>\n    <tr>\n      <th>model_name</th>\n      <th></th>\n      <th></th>\n      <th></th>\n    </tr>\n  </thead>\n  <tbody>\n    <tr>\n      <th>2Plus1d_r34</th>\n      <td>61/41/32</td>\n      <td>77/41/27</td>\n      <td>539/278/146</td>\n    </tr>\n    <tr>\n      <th>CSN_r152</th>\n      <td>172/169/169</td>\n      <td>115/92/88</td>\n      <td>584/303/163</td>\n    </tr>\n    <tr>\n      <th>I3D_r50</th>\n      <td>27/23/21</td>\n      <td>21/14/11</td>\n      <td>128/68/37</td>\n    </tr>\n    <tr>\n      <th>SlowFast_r50</th>\n      <td>34/28/28</td>\n      <td>28/18/14</td>\n      <td>150/81/45</td>\n    </tr>\n    <tr>\n      <th>SlowOnly_r50</th>\n      <td>58/38/28</td>\n      <td>79/41/23</td>\n      <td>576/301/160</td>\n    </tr>\n  </tbody>\n</table>\n</div>"
     },
     "metadata": {},
     "execution_count": 3
    }
   ],
   "source": [
    "# 输出 PyTorch 的结果\n",
    "# 获取 32f/16f/8f 的各类模型在 v100/1080ti/agx 上的推理速度\n",
    "pytorch_df = df[df.model_type == 'PyTorch']\n",
    "devices = ['v100', '1080ti', 'agx']\n",
    "frames = [32, 16, 8]\n",
    "\n",
    "def _summary(model_df):\n",
    "    results = {}\n",
    "    for device in devices:\n",
    "        results[device] = [-1] * len(frames)\n",
    "    \n",
    "    for row in model_df.iterrows():\n",
    "        model_name = row[0]\n",
    "\n",
    "        cur_num_segments = row[1].num_segments\n",
    "        cur_device = row[1].device\n",
    "        cur_time = row[1].time_per_sample\n",
    "\n",
    "        results[cur_device][frames.index(cur_num_segments)] = cur_time\n",
    "\n",
    "    cur_row = []\n",
    "    for device in devices:\n",
    "        cur_results = [str(i) for i in results[device]]\n",
    "        cur_row.append(\"/\".join(cur_results))\n",
    "    return pd.Series(cur_row)\n",
    "\n",
    "results_by_device = pytorch_df.groupby(\"model_name\").apply(_summary)\n",
    "results_by_device.columns = ['v100(32f, 16f, 8f)', '1080ti(32f, 16f, 8f)', 'agx(32f, 16f, 8f)']\n",
    "results_by_device.head()\n",
    "# results_by_device.to_csv('test.csv', sep='|')"
   ]
  },
  {
   "cell_type": "code",
   "execution_count": null,
   "metadata": {},
   "outputs": [],
   "source": []
  }
 ]
}